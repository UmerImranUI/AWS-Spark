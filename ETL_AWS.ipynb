{
 "cells": [
  {
   "cell_type": "code",
   "execution_count": null,
   "id": "fd882b97",
   "metadata": {},
   "outputs": [],
   "source": [
    "import boto3\n",
    "import pandas as pd\n",
    "from io import StringIO\n",
    "import time"
   ]
  },
  {
   "cell_type": "code",
   "execution_count": null,
   "id": "28ef1313",
   "metadata": {},
   "outputs": [],
   "source": [
    "AWS_ACCESS_KEY=''\n",
    "AWS_SECRET_KEY=''\n",
    "AWS_REGION='ap-south-1'\n",
    "SCHEMA_NAME='covid'\n",
    "S3_STAGING_DIR=''\n",
    "S3_BUCKET_NAME='athena-outputqueries'\n",
    "S3_OUTPUT_DIRECTORY='output'"
   ]
  },
  {
   "cell_type": "code",
   "execution_count": null,
   "id": "c53c7aed",
   "metadata": {},
   "outputs": [],
   "source": [
    "athena_client=boto3.client(\n",
    "\"athena\",\n",
    "    aws_access_key_id=AWS_ACCESS_KEY,\n",
    "    aws_secret_access_key=AWS_SECRET_KEY,\n",
    "    region_name=AWS_REGION\n",
    ")"
   ]
  },
  {
   "cell_type": "code",
   "execution_count": null,
   "id": "fa81d428",
   "metadata": {},
   "outputs": [],
   "source": [
    "Dict={}\n",
    "def download_and_load_query_results(client: boto3.client, query_response: Dict) -> pd.DataFrame:\n",
    "    while True:\n",
    "        try:\n",
    "            \n",
    "            client.get_query_results(\n",
    "            QueryExecutionId=query_response['QueryExecutionId']\n",
    "            )\n",
    "            break\n",
    "        except Exception as err:\n",
    "            if \"not yet finished\" in str(err):\n",
    "                time.sleep(0.001)\n",
    "            else:\n",
    "                raise err\n",
    "    temp_file_location: str= \"athena_query_results.csv\"\n",
    "    s3_client=boto3.client(\n",
    "        \"s3\",\n",
    "        aws_access_key_id=AWS_ACCESS_KEY,\n",
    "        aws_secret_access_key=AWS_SECRET_KEY,\n",
    "        region_name=AWS_REGION\n",
    "        \n",
    "    )\n",
    "    s3_client.download_file(\n",
    "    S3_BUCKET_NAME,\n",
    "        f\"{S3_OUTPUT_DIRECTORY}/{query_response['QueryExecutionId']}.csv\",\n",
    "        temp_file_location,\n",
    "    )\n",
    "    \n",
    "    return pd.read_csv(temp_file_location)"
   ]
  },
  {
   "cell_type": "code",
   "execution_count": null,
   "id": "e4f6ec02",
   "metadata": {},
   "outputs": [],
   "source": [
    "response= athena_client.start_query_execution(\n",
    "    QueryString=\"SELECT * FROM covid_data;\",\n",
    "    QueryExecutionContext={\"Database\": SCHEMA_NAME},\n",
    "    ResultConfiguration={\n",
    "        \"OutputLocation\": S3_STAGING_DIR,\n",
    "        \"EncryptionConfiguration\":{\"EncryptionOption\":\"SSE_S3\"},\n",
    "    },\n",
    ")"
   ]
  },
  {
   "cell_type": "code",
   "execution_count": null,
   "id": "5d98c8b7",
   "metadata": {},
   "outputs": [],
   "source": [
    "response"
   ]
  },
  {
   "cell_type": "code",
   "execution_count": null,
   "id": "a5e146c0",
   "metadata": {},
   "outputs": [],
   "source": [
    "covidData=download_and_load_query_results(athena_client, response)"
   ]
  },
  {
   "cell_type": "code",
   "execution_count": null,
   "id": "cb43877f",
   "metadata": {},
   "outputs": [],
   "source": [
    "covidData.head()"
   ]
  },
  {
   "cell_type": "code",
   "execution_count": null,
   "id": "2dfda025",
   "metadata": {},
   "outputs": [],
   "source": [
    "covidData=covidData.sort_values(by='updatedon')"
   ]
  },
  {
   "cell_type": "code",
   "execution_count": null,
   "id": "a2f321a6",
   "metadata": {},
   "outputs": [],
   "source": [
    "covidData.groupby(['state']).mean()\n"
   ]
  },
  {
   "cell_type": "code",
   "execution_count": null,
   "id": "6d19856e",
   "metadata": {},
   "outputs": [],
   "source": [
    "covidData=covidData.reset_index()\n",
    "\n"
   ]
  },
  {
   "cell_type": "code",
   "execution_count": null,
   "id": "13433355",
   "metadata": {},
   "outputs": [],
   "source": [
    "covidData=covidData.drop(['index'], axis=1)"
   ]
  },
  {
   "cell_type": "code",
   "execution_count": null,
   "id": "a8516928",
   "metadata": {},
   "outputs": [],
   "source": [
    "covidData"
   ]
  },
  {
   "cell_type": "code",
   "execution_count": null,
   "id": "43d832f5",
   "metadata": {},
   "outputs": [],
   "source": [
    "\n",
    "covidData.head()"
   ]
  },
  {
   "cell_type": "code",
   "execution_count": null,
   "id": "0f4bacf7",
   "metadata": {},
   "outputs": [],
   "source": [
    "sortedcovidData=covidData.sort_values(by='state').reset_index().drop(['index'], axis=1)\n",
    "sortedcovidData"
   ]
  },
  {
   "cell_type": "code",
   "execution_count": null,
   "id": "6250cc16",
   "metadata": {},
   "outputs": [],
   "source": [
    "bucket=''"
   ]
  },
  {
   "cell_type": "code",
   "execution_count": null,
   "id": "2728d7e6",
   "metadata": {},
   "outputs": [],
   "source": [
    "csv_buffer=StringIO()"
   ]
  },
  {
   "cell_type": "code",
   "execution_count": null,
   "id": "8e980949",
   "metadata": {},
   "outputs": [],
   "source": [
    "csv_buffer"
   ]
  },
  {
   "cell_type": "code",
   "execution_count": null,
   "id": "b4782afc",
   "metadata": {},
   "outputs": [],
   "source": [
    "covidData.to_csv(csv_buffer)"
   ]
  },
  {
   "cell_type": "code",
   "execution_count": null,
   "id": "187d5a4e",
   "metadata": {},
   "outputs": [],
   "source": [
    "s3_resource = boto3.resource('s3',\n",
    "        aws_access_key_id=AWS_ACCESS_KEY,\n",
    "         aws_secret_access_key= AWS_SECRET_KEY\n",
    "                            )\n"
   ]
  },
  {
   "cell_type": "code",
   "execution_count": null,
   "id": "d98773f6",
   "metadata": {},
   "outputs": [],
   "source": [
    "s3_resource.Object(bucket, 'output/covid19Data.csv').put(Body=csv_buffer.getvalue())"
   ]
  },
  {
   "cell_type": "code",
   "execution_count": null,
   "id": "24bc68f0",
   "metadata": {},
   "outputs": [],
   "source": [
    "covidDatasql=pd.io.sql.get_schema(covidData,'covidData')\n",
    "print(''.join(covidDatasql))"
   ]
  },
  {
   "cell_type": "code",
   "execution_count": null,
   "id": "9b159cb9",
   "metadata": {},
   "outputs": [],
   "source": [
    "import redshift_connector\n",
    "import boto3"
   ]
  },
  {
   "cell_type": "code",
   "execution_count": null,
   "id": "243615ad",
   "metadata": {},
   "outputs": [],
   "source": [
    "conn =redshift_connector.connect(\n",
    "    host='',\n",
    "    database='dev',\n",
    "    user='awsuser',\n",
    "    password='',\n",
    "    port=5439,\n",
    "    \n",
    " )"
   ]
  },
  {
   "cell_type": "code",
   "execution_count": null,
   "id": "3552d929",
   "metadata": {},
   "outputs": [],
   "source": [
    "conn.autocommit=True"
   ]
  },
  {
   "cell_type": "code",
   "execution_count": null,
   "id": "8d7cf137",
   "metadata": {},
   "outputs": [],
   "source": [
    "cursor=redshift_connector.Cursor = conn.cursor()"
   ]
  },
  {
   "cell_type": "code",
   "execution_count": null,
   "id": "4478bb3e",
   "metadata": {},
   "outputs": [],
   "source": [
    "cursor.execute(\"\"\"\n",
    "CREATE TABLE \"covidData\" (\n",
    "\"updatedon\" TEXT,\n",
    "  \"state\" TEXT,\n",
    "  \"totaldosesadministered\" REAL,\n",
    "  \"sessions\" REAL,\n",
    "  \"sites\" REAL,\n",
    "  \"firstdoseadministered\" REAL,\n",
    "  \"seconddoseadministered\" REAL,\n",
    "  \"male(dosesadministered)\" REAL,\n",
    "  \"female(dosesadministered)\" REAL,\n",
    "  \"transgender(dosesadministered)\" REAL,\n",
    "  \"covaxin(dosesadministered)\" REAL,\n",
    "  \"covishield(dosesadministered)\" REAL,\n",
    "  \"sputnikv(dosesadministered)\" REAL,\n",
    "  \"aefi\" REAL,\n",
    "  \"18-44years(dosesadministered)\" REAL,\n",
    "  \"45-60years(dosesadministered)\" REAL,\n",
    "  \"60+years(dosesadministered)\" REAL,\n",
    "  \"18-44years(individualsvaccinated)\" REAL,\n",
    "  \"45-60years(individualsvaccinated)\" REAL,\n",
    "  \"60+years(individualsvaccinated)\" REAL,\n",
    "  \"male(individualsvaccinated)\" REAL,\n",
    "  \"female(individualsvaccinated)\" REAL,\n",
    "  \"transgender(individualsvaccinated)\" REAL,\n",
    "  \"totalindividualsvaccinated\" REAL\n",
    ")\n",
    "\"\"\")"
   ]
  },
  {
   "cell_type": "code",
   "execution_count": null,
   "id": "028e5eb6",
   "metadata": {},
   "outputs": [],
   "source": [
    "cursor.execute(\"\"\"\n",
    "copy covidData from 's3://aws-covd-project/output/covid19Data.csv'\n",
    "credentials 'aws_iam_role=arn:aws:iam::228520749505:role/redshift-s3-access'\n",
    "delimiter ','\n",
    "region 'ap-south-1'\n",
    "IGNOREHEADER 1\n",
    "\"\"\"\n",
    ")"
   ]
  }
 ],
 "metadata": {
  "kernelspec": {
   "display_name": "Python 3 (ipykernel)",
   "language": "python",
   "name": "python3"
  },
  "language_info": {
   "codemirror_mode": {
    "name": "ipython",
    "version": 3
   },
   "file_extension": ".py",
   "mimetype": "text/x-python",
   "name": "python",
   "nbconvert_exporter": "python",
   "pygments_lexer": "ipython3",
   "version": "3.9.12"
  }
 },
 "nbformat": 4,
 "nbformat_minor": 5
}
