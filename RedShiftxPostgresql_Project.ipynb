{
 "cells": [
  {
   "cell_type": "code",
   "execution_count": null,
   "id": "208bda58",
   "metadata": {},
   "outputs": [],
   "source": [
    "import boto3\n",
    "import pandas as pd\n",
    "import json\n",
    "import psycopg2\n",
    "import configparser"
   ]
  },
  {
   "cell_type": "code",
   "execution_count": null,
   "id": "ba5a7c0e",
   "metadata": {},
   "outputs": [],
   "source": [
    "config=configparser.ConfigParser()\n",
    "config.read_file(open('cluster.config'))"
   ]
  },
  {
   "cell_type": "code",
   "execution_count": null,
   "id": "1060205a",
   "metadata": {},
   "outputs": [],
   "source": [
    "config.get('AWS','KEY')"
   ]
  },
  {
   "cell_type": "code",
   "execution_count": null,
   "id": "e7241b35",
   "metadata": {},
   "outputs": [],
   "source": [
    "\n",
    "KEY=config.get('AWS','KEY')\n",
    "SECRET=config.get('AWS','SECRET')\n",
    "DWH_CLUSTER_TYPE=config.get('DWH','DWH_CLUSTER_TYPE')\n",
    "DWH_NUM_NODES=config.get('DWH','DWH_NUM_NODES')\n",
    "DWH_NODE_TYPE=config.get('DWH','DWH_NODE_TYPE')\n",
    "DWH_CLUSTER_IDENTIFIER=config.get('DWH','DWH_CLUSTER_IDENTIFIER')\n",
    "DWH_DB=config.get('DWH','DWH_DB')\n",
    "DWH_DB_USER=config.get('DWH','DWH_DB_USER')\n",
    "DWH_DB_PASSWORD=config.get('DWH','DWH_DB_PASSWORD')\n",
    "DWH_PORT=config.get('DWH','DWH_PORT')\n",
    "DWH_IAM_ROLE_NAME=config.get('DWH','DWH_IAM_ROLE_NAME')\n",
    "\n"
   ]
  },
  {
   "cell_type": "code",
   "execution_count": null,
   "id": "6c1678b1",
   "metadata": {},
   "outputs": [],
   "source": [
    "pd.DataFrame({\"Param\":\n",
    "              ['DWH_CLUSTER_TYPE','DWH_NUM_NODES','DWH_NODE_TYPE','DWH_CLUSTER_IDENTIFIER','DWH_DB','DWH_DB_USER','DWH_DB_PASSWORD','DWH_PORT','DWH_IAM_ROLE_NAME'],\n",
    "              \"Value\":\n",
    "              [DWH_CLUSTER_TYPE,DWH_NUM_NODES,DWH_NODE_TYPE,DWH_CLUSTER_IDENTIFIER,DWH_DB,DWH_DB_USER,DWH_DB_PASSWORD,DWH_PORT,DWH_IAM_ROLE_NAME]\n",
    "}\n",
    ")"
   ]
  },
  {
   "cell_type": "code",
   "execution_count": null,
   "id": "7bd245cc",
   "metadata": {},
   "outputs": [],
   "source": [
    "ec2=boto3.resource('ec2',\n",
    "                  region_name='ap-south-1',\n",
    "                  aws_access_key_id=KEY,\n",
    "                  aws_secret_access_key=SECRET)"
   ]
  },
  {
   "cell_type": "code",
   "execution_count": null,
   "id": "fde3779f",
   "metadata": {},
   "outputs": [],
   "source": [
    "s3=boto3.resource('s3',\n",
    "                 region_name='ap-south-1',\n",
    "                  aws_access_key_id=KEY,\n",
    "                  aws_secret_access_key=SECRET)\n",
    "\n",
    "\n",
    "iam=boto3.client('iam',\n",
    "                 region_name='ap-south-1',\n",
    "                aws_access_key_id=KEY,\n",
    "                aws_secret_access_key=SECRET\n",
    "                )\n",
    "\n",
    "\n",
    "redshift=boto3.client('redshift',\n",
    "                      region_name='ap-south-1',\n",
    "                  aws_access_key_id=KEY,\n",
    "                  aws_secret_access_key=SECRET\n",
    ")"
   ]
  },
  {
   "cell_type": "code",
   "execution_count": null,
   "id": "68e3f823",
   "metadata": {},
   "outputs": [],
   "source": [
    "bucket=s3.Bucket(\"awsjupyterproject\")\n",
    "log_data_files=[filename.key for filename in bucket.objects.filter(Prefix='')]\n",
    "log_data_files"
   ]
  },
  {
   "cell_type": "code",
   "execution_count": null,
   "id": "d3a9110c",
   "metadata": {},
   "outputs": [],
   "source": [
    "roleArn=iam.get_role(RoleName=DWH_IAM_ROLE_NAME)['Role']['Arn']\n",
    "roleArn"
   ]
  },
  {
   "cell_type": "code",
   "execution_count": null,
   "id": "9ad96e29",
   "metadata": {},
   "outputs": [],
   "source": [
    "try:\n",
    "    response=redshift.create_cluster(\n",
    "    ClusterType=DWH_CLUSTER_TYPE,\n",
    "    NodeType=DWH_NODE_TYPE,\n",
    "        \n",
    "    DBName=DWH_DB,\n",
    "    ClusterIdentifier=DWH_CLUSTER_IDENTIFIER,\n",
    "    MasterUsername=DWH_DB_USER,\n",
    "    MasterUserPassword=DWH_DB_PASSWORD,\n",
    "    \n",
    "    IamRoles=[roleArn]\n",
    "    \n",
    "    )\n",
    "    \n",
    "    \n",
    "    \n",
    "except Exception as e:\n",
    "    print(e)"
   ]
  },
  {
   "cell_type": "code",
   "execution_count": null,
   "id": "20891688",
   "metadata": {},
   "outputs": [],
   "source": [
    "redshift.describe_clusters(ClusterIdentifier=DWH_CLUSTER_IDENTIFIER)['Clusters'][0]"
   ]
  },
  {
   "cell_type": "code",
   "execution_count": null,
   "id": "16ebcc2b",
   "metadata": {},
   "outputs": [],
   "source": [
    "def prettyRedshiftProps(props):\n",
    "    pd.set_option('display.max_colwidth',-1)\n",
    "    KeysToShow=['ClusterIdentifier','NodeType','ClusterStatus','MasterUsername','DBName',\n",
    " 'Endpoint', 'VcpId']\n",
    "    x=[(k,v) for k,v in props.items() if k in KeysToShow]\n",
    "    return pd.DataFrame(data=x, columns=[\"Key\", \"Value\"])\n",
    "\n",
    "\n",
    "myClusterProps=redshift.describe_clusters(ClusterIdentifier=DWH_CLUSTER_IDENTIFIER)['Clusters'][0]\n",
    "prettyRedshiftProps(myClusterProps)"
   ]
  },
  {
   "cell_type": "code",
   "execution_count": null,
   "id": "58f9c7b3",
   "metadata": {},
   "outputs": [],
   "source": [
    "DWH_ENDPOINT=myClusterProps['Endpoint']['Address']\n",
    "DWH_ROLE_ARN=myClusterProps['IamRoles'][0]['IamRoleArn']\n",
    "DB_NAME=myClusterProps['DBName']\n",
    "DB_USER=myClusterProps['MasterUsername']\n"
   ]
  },
  {
   "cell_type": "code",
   "execution_count": null,
   "id": "e1aae551",
   "metadata": {},
   "outputs": [],
   "source": [
    "try:\n",
    "    vpc=ec2.Vpc(id=myClusterProps['VpcId'])\n",
    "    defaultSg=list(vpc.security_groups.all())[0]\n",
    "    print(defaultSg)\n",
    "    \n",
    "    defaultSg.authorize_ingress(\n",
    "        GroupName=defaultSg.group_name,\n",
    "        CidrIp='0.0.0.0/0',\n",
    "        IpProtocol='TCP',\n",
    "        FromPort=int(DWH_PORT),\n",
    "        ToPort=int(DWH_PORT)\n",
    "    )\n",
    "    \n",
    "except Exception as e:\n",
    "    print(e)"
   ]
  },
  {
   "cell_type": "code",
   "execution_count": null,
   "id": "74891872",
   "metadata": {},
   "outputs": [],
   "source": [
    "try:\n",
    "    conn=psycopg2.connect(host=DWH_ENDPOINT, dbname=DB_NAME, user=DB_USER, password='', port=5439)\n",
    "    \n",
    "    \n",
    "except psycopg2.Error as e:\n",
    "    print(\"Error: Couldn'r make connection to postgresql database\")\n",
    "    print(e)\n",
    "\n",
    "conn.set_session(autocommit=True)"
   ]
  },
  {
   "cell_type": "code",
   "execution_count": null,
   "id": "0c733cd0",
   "metadata": {},
   "outputs": [],
   "source": [
    "try:\n",
    "    cur=conn.cursor()\n",
    "except psycopg2.Error as e:\n",
    "    print(\"Error: Could not get curser to the Database\")\n",
    "    print(e)"
   ]
  },
  {
   "cell_type": "code",
   "execution_count": null,
   "id": "2246112f",
   "metadata": {},
   "outputs": [],
   "source": [
    "try:\n",
    "    cur.execute(\"\"\"create table users(\n",
    "    userid integer not null distkey sortkey,\n",
    "    username char(8),\n",
    "    firstname varchar(30),\n",
    "    lastname varchar(30),\n",
    "    city varchar(30),\n",
    "    state char(10),\n",
    "    email varchar(100),\n",
    "    phone char(20),\n",
    "    likesports boolean,\n",
    "    liketheatre boolean,\n",
    "    likeconcerts boolean,\n",
    "    likejazz boolean,\n",
    "    likeclassical boolean,\n",
    "    likeopera boolean,\n",
    "    likerock boolean,\n",
    "    likevegas boolean,\n",
    "    likebroadway boolean,\n",
    "    likemusicals boolean);\"\"\")\n",
    "    \n",
    "except psycopg2.error as e:\n",
    "    print(\"Error: Issue creating table\")\n",
    "    print(2)"
   ]
  },
  {
   "cell_type": "code",
   "execution_count": null,
   "id": "aacb413e",
   "metadata": {},
   "outputs": [],
   "source": [
    "try:\n",
    "    cur.execute(\"\"\"\n",
    "    copy users from 's3://awsjupyterproject/allusers_pipe.txt'\n",
    "    credentials '<iam role>'\n",
    "    delimiter '|'\n",
    "    region 'ap-south-1'\n",
    "    \n",
    "    \"\"\")\n",
    "    \n",
    "except psycopg2.Error as e:\n",
    "    print(\"Error: Issue creating table\")\n",
    "    print(e)"
   ]
  },
  {
   "cell_type": "code",
   "execution_count": null,
   "id": "5c9269d7",
   "metadata": {},
   "outputs": [],
   "source": [
    "try:\n",
    "    cur.execute(\"\"\"\n",
    "    select * from users;\n",
    "    \n",
    "    \"\"\")\n",
    "    \n",
    "except psycopg2.Error as e:\n",
    "    print(e)"
   ]
  },
  {
   "cell_type": "code",
   "execution_count": null,
   "id": "1c12ef42",
   "metadata": {},
   "outputs": [],
   "source": [
    "row=cur.fetchone()\n",
    "while row:\n",
    "    print(row)\n",
    "    row=cur.fetchone()"
   ]
  },
  {
   "cell_type": "code",
   "execution_count": null,
   "id": "4da3188a",
   "metadata": {},
   "outputs": [],
   "source": [
    "redshift.delete_cluster(ClusterIdentifier=DWH_CLUSTER_IDENTIFIER, SkipFinalClusterSnapshot=True)"
   ]
  },
  {
   "cell_type": "code",
   "execution_count": null,
   "id": "0b6c2b87",
   "metadata": {},
   "outputs": [],
   "source": []
  }
 ],
 "metadata": {
  "kernelspec": {
   "display_name": "Python 3 (ipykernel)",
   "language": "python",
   "name": "python3"
  },
  "language_info": {
   "codemirror_mode": {
    "name": "ipython",
    "version": 3
   },
   "file_extension": ".py",
   "mimetype": "text/x-python",
   "name": "python",
   "nbconvert_exporter": "python",
   "pygments_lexer": "ipython3",
   "version": "3.9.12"
  }
 },
 "nbformat": 4,
 "nbformat_minor": 5
}
